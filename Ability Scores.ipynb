{
 "cells": [
  {
   "cell_type": "code",
   "execution_count": 1,
   "metadata": {},
   "outputs": [],
   "source": [
    "Human = {1: [1,1,1,1,1,1]}\n",
    "Human_Variant = {1: [0,0,0,0,0,0]}\n",
    "Hill_Dwarf = {1: [0, 0, 2, 0, 1, 0]}\n",
    "Mountain_Dwarf = {1: [2,0,2,0,0,0]}\n",
    "High_Elf = {1: [0,2,0,1,0,0]}\n",
    "Wood_Elf = {1: [0,2,0,0,1,0]}\n",
    "Drow_Elf = {1: [0,2,0,0,0,1]}\n",
    "Lightfoot_Halfling = {1: [0,2,0,0,0,1]}\n",
    "Stout_Halfling = {1: [0,2,1,0,0,0]}\n",
    "Dragonborn = {1: [2,0,0,0,0,1]}\n",
    "Forest_Gnome = {1: [0,1,0,2,0,0]}\n",
    "Rock_Gnome = {1: [0,0,1,2,0,0]}\n",
    "Half_Elf = {1: [0,0,0,0,0,2]}\n",
    "Half_Orc = {1: [2,0,1,0,0,0]}\n",
    "Teifling = {1: [0,0,0,1,0,2]}\n",
    "\n",
    "Races = [Human, Hill_Dwarf, Mountain_Dwarf, High_Elf, Wood_Elf, Drow_Elf, Lightfoot_Halfling, Stout_Halfling, Dragonborn, Forest_Gnome, Rock_Gnome, Half_Elf, Half_Orc, Teifling]"
   ]
  },
  {
   "cell_type": "code",
   "execution_count": 2,
   "metadata": {},
   "outputs": [],
   "source": [
    "\n",
    "# 0 = STR, 1 = DEX, 2 = CON, 3 = INT, 4 = WIS, 5 = CHA\n",
    "\n",
    "# Strength = [10]\n",
    "# Dexterity = [10]\n",
    "# Constitution = [10]\n",
    "# Intelligence = [10]\n",
    "# Wisdom = [10]\n",
    "# Charisma = [10]\n",
    "\n",
    "# STR = Strength\n",
    "# DEX = Dexterity\n",
    "# CON = Constitution\n",
    "# INT = Intelligence\n",
    "# WIS = Wisdom\n",
    "# CHA = Charisma\n",
    "\n",
    "# Abilities = [Strength, Dexterity, Constitution, Intelligence, Wisdom, Charisma]\n",
    "# ABI = [STR, DEX, CON, INT, WIS, CHA]"
   ]
  },
  {
   "cell_type": "code",
   "execution_count": 3,
   "metadata": {},
   "outputs": [],
   "source": [
    "def AS_generator(race, pointbuy) :\n",
    "    raw = [10,10,10,10,10,10]\n",
    "    ability_scores = [x+y+z for (x,y,z) in zip(raw, race, pointbuy)]\n",
    "    return(ability_scores)"
   ]
  },
  {
   "cell_type": "code",
   "execution_count": 4,
   "metadata": {},
   "outputs": [],
   "source": [
    "Race = Teifling\n",
    "# Rearrange these as chosen\n",
    "# 15, 14, 13, 12, 10, 8\n",
    "# 5, 4, 3, 2, 0, -2\n",
    "Choose = [5, 4, 3, 2, 0, -2]\n",
    "\n",
    "# Half Elves and Human Variant get 1 more to two Abilities.\n",
    "\n",
    "character_ASB = AS_generator(Race[1], Choose)"
   ]
  },
  {
   "cell_type": "code",
   "execution_count": 5,
   "metadata": {},
   "outputs": [
    {
     "data": {
      "text/plain": [
       "[15, 14, 13, 13, 10, 10]"
      ]
     },
     "execution_count": 5,
     "metadata": {},
     "output_type": "execute_result"
    }
   ],
   "source": [
    "character_ASB"
   ]
  },
  {
   "cell_type": "code",
   "execution_count": null,
   "metadata": {},
   "outputs": [],
   "source": []
  }
 ],
 "metadata": {
  "interpreter": {
   "hash": "ad2bdc8ecc057115af97d19610ffacc2b4e99fae6737bb82f5d7fb13d2f2c186"
  },
  "kernelspec": {
   "display_name": "Python 3.9.7 ('base')",
   "language": "python",
   "name": "python3"
  },
  "language_info": {
   "codemirror_mode": {
    "name": "ipython",
    "version": 3
   },
   "file_extension": ".py",
   "mimetype": "text/x-python",
   "name": "python",
   "nbconvert_exporter": "python",
   "pygments_lexer": "ipython3",
   "version": "3.9.7"
  },
  "orig_nbformat": 4
 },
 "nbformat": 4,
 "nbformat_minor": 2
}
