{
 "cells": [
  {
   "cell_type": "code",
   "execution_count": 1,
   "metadata": {},
   "outputs": [],
   "source": [
    "import math"
   ]
  },
  {
   "cell_type": "code",
   "execution_count": 2,
   "metadata": {},
   "outputs": [],
   "source": [
    "# Race Dictionaries\n",
    "Human = {1: [1,1,1,1,1,1]}\n",
    "Human_Variant = {1: [0,0,0,0,0,0]}\n",
    "Hill_Dwarf = {1: [0, 0, 2, 0, 1, 0]}\n",
    "Mountain_Dwarf = {1: [2,0,2,0,0,0]}\n",
    "High_Elf = {1: [0,2,0,1,0,0]}\n",
    "Wood_Elf = {1: [0,2,0,0,1,0]}\n",
    "Drow_Elf = {1: [0,2,0,0,0,1]}\n",
    "Lightfoot_Halfling = {1: [0,2,0,0,0,1]}\n",
    "Stout_Halfling = {1: [0,2,1,0,0,0]}\n",
    "Dragonborn = {1: [2,0,0,0,0,1]}\n",
    "Forest_Gnome = {1: [0,1,0,2,0,0]}\n",
    "Rock_Gnome = {1: [0,0,1,2,0,0]}\n",
    "Half_Elf = {1: [0,0,0,0,0,2]}\n",
    "Half_Orc = {1: [2,0,1,0,0,0]}\n",
    "Teifling = {1: [0,0,0,1,0,2]}\n",
    "\n",
    "Races = [Human, Hill_Dwarf, Mountain_Dwarf, High_Elf, Wood_Elf, Drow_Elf, Lightfoot_Halfling, Stout_Halfling, Dragonborn, Forest_Gnome, Rock_Gnome, Half_Elf, Half_Orc, Teifling]"
   ]
  },
  {
   "cell_type": "code",
   "execution_count": 3,
   "metadata": {},
   "outputs": [],
   "source": [
    "# Class Table/Dictionaries - Improve Later\n",
    "Barbarian = {1:12}\n",
    "Bard = {1:8}\n",
    "Cleric = {1:8}\n",
    "Druid = {1:8}\n",
    "Fighter = {1:10}\n",
    "Monk = {1:8}\n",
    "Paladin = {1:10}\n",
    "Ranger = {1:8}\n",
    "Rogue = {1:8}\n",
    "Sorerer = {1:6}\n",
    "Warlock = {1:8}\n",
    "Wizard = {1:6}"
   ]
  },
  {
   "cell_type": "code",
   "execution_count": 4,
   "metadata": {},
   "outputs": [],
   "source": [
    "# ndicen(count, sides) : Dice Roller\n",
    "# Not working yet.\n",
    "from mypythonlib import myfunctions\n",
    "# Above should import this.\n",
    "import random\n",
    "\n",
    "# Returns a list of rolled die and their sum. Index 0 is sum. Index 1 is list\n",
    "def ndicen(count,sides) :\n",
    "    dice = []\n",
    "    for die in range(count) :\n",
    "        pips = random.randint(1, sides)\n",
    "        dice.append(pips)\n",
    "    return(sum(dice), dice)"
   ]
  },
  {
   "cell_type": "code",
   "execution_count": 5,
   "metadata": {},
   "outputs": [],
   "source": [
    "# AS_generator(race, pointbuy) : Ability Score Generator\n",
    "def AS_generator(Race, PointBuy) :\n",
    "    raw = [10,10,10,10,10,10]\n",
    "    ability_scores = [x+y+z for (x,y,z) in zip(raw, Race, PointBuy)]\n",
    "    return(ability_scores)"
   ]
  },
  {
   "cell_type": "code",
   "execution_count": 6,
   "metadata": {},
   "outputs": [],
   "source": [
    "# profiency_bonus(Level) : Profiencey Bonus by Level\n",
    "def profiency_bonus(Level) :\n",
    "    profbonus = 1 + math.ceil(Level/4)\n",
    "    return(profbonus)"
   ]
  },
  {
   "cell_type": "code",
   "execution_count": 7,
   "metadata": {},
   "outputs": [],
   "source": [
    "# hp_generator(Class, Level, Con_Mod) : Hit Points by Level\n",
    "def hp_generator(Class, Level, Con) :\n",
    "    dice = Class[1]\n",
    "    hit_points = dice + math.floor((Con-10)/2)*Level\n",
    "    for levelup in range(1,Level) :\n",
    "        roll = ndicen(1,dice)\n",
    "        add = roll[0]\n",
    "        hit_points = hit_points+add\n",
    "    return(hit_points)"
   ]
  },
  {
   "cell_type": "code",
   "execution_count": 8,
   "metadata": {},
   "outputs": [],
   "source": [
    "# character_generator(Name) : runs the above three together.\n",
    "def character_generator(Name) :\n",
    "    Level = Name[1]\n",
    "    Race = Name[2]\n",
    "    Class = Name[3]\n",
    "    PointBuy = Name[4]\n",
    "    abilities = AS_generator(Race[1], PointBuy)\n",
    "    prof = profiency_bonus(Level)\n",
    "    hp = hp_generator(Class, Level, abilities[2])\n",
    "    return(prof, abilities, hp)\n"
   ]
  },
  {
   "cell_type": "code",
   "execution_count": 15,
   "metadata": {},
   "outputs": [],
   "source": [
    "# Set Kayne's 1: Level, 2: Race, 3: Class, 4: Starting PointBuy allocation.\n",
    "\n",
    "Kanye = {1:20, 2:Human_Variant, 3:Wizard, 4:[5,4,2,2,3,-2]}"
   ]
  },
  {
   "cell_type": "code",
   "execution_count": 16,
   "metadata": {},
   "outputs": [
    {
     "data": {
      "text/plain": [
       "(6, [15, 14, 12, 12, 13, 8], 97)"
      ]
     },
     "execution_count": 16,
     "metadata": {},
     "output_type": "execute_result"
    }
   ],
   "source": [
    "# Kanye's Profiency Bonus, Ability Scores (No ASI), and HP\n",
    "Kanye_CS = character_generator(Kanye)\n",
    "Kanye_CS"
   ]
  },
  {
   "cell_type": "code",
   "execution_count": 11,
   "metadata": {},
   "outputs": [],
   "source": [
    "# Negative modifiers aren't added correctly yet.\n",
    "# Armor Class - 10 + dex + class bonus + gear\n",
    "# Speed, from race and class\n",
    "# Pending - To multiclass: For class, level append hit points.\n",
    "# Skills\n",
    "# Saves Class, Race, AS, Prof."
   ]
  },
  {
   "cell_type": "code",
   "execution_count": 12,
   "metadata": {},
   "outputs": [],
   "source": [
    "# name = 'Kayne'\n",
    "# level = 1\n",
    "# #character_class = Class[0]\n",
    "# race = Human\n",
    "# #hp = Class[1] + kam[2]\n",
    "# #ability_scores = zip(Ability_Scores, kas, kam) \n",
    "# character_inventory = ['Axe', 'Javelin']\n",
    "# def character_sheet():\n",
    "#     print(name)\n",
    "#     print('Level: ' + str(level))\n",
    "#     print(race)\n",
    "#     print(character_class)\n",
    "#     print(list(ability_scores))\n",
    "#     print(str(hp) + ' Hit Points')\n",
    "#     print('Inventory: ' + str(character_inventory))\n"
   ]
  }
 ],
 "metadata": {
  "interpreter": {
   "hash": "ad2bdc8ecc057115af97d19610ffacc2b4e99fae6737bb82f5d7fb13d2f2c186"
  },
  "kernelspec": {
   "display_name": "Python 3.9.7 ('base')",
   "language": "python",
   "name": "python3"
  },
  "language_info": {
   "codemirror_mode": {
    "name": "ipython",
    "version": 3
   },
   "file_extension": ".py",
   "mimetype": "text/x-python",
   "name": "python",
   "nbconvert_exporter": "python",
   "pygments_lexer": "ipython3",
   "version": "3.9.7"
  },
  "orig_nbformat": 4
 },
 "nbformat": 4,
 "nbformat_minor": 2
}
