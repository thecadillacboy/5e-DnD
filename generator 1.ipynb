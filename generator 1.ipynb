{
 "cells": [
  {
   "cell_type": "code",
   "execution_count": 1,
   "metadata": {},
   "outputs": [],
   "source": [
    "import math"
   ]
  },
  {
   "cell_type": "code",
   "execution_count": 2,
   "metadata": {},
   "outputs": [],
   "source": [
    "# Dictionaries\n",
    "# Dictionary Indices\n",
    "RAB = 'RAB' # RAB - Racial Ability Bonus\n",
    "LNG = 'LNG' # LNG - Language\n",
    "SPD = 'SPD' # SPD - Speed\n",
    "SIZ = 'SIZ' # SIZ - Size\n",
    "\n",
    "# Race Dictionaries\n",
    "Human              = {RAB:[1,1,1,1,1,1], LNG: [0,1],   SPD: 30, SIZ: 2}\n",
    "Human_Variant      = {RAB:[0,0,0,0,0,0], LNG: [0,1],   SPD: 30, SIZ: 2}\n",
    "Hill_Dwarf         = {RAB:[0,0,2,0,1,0], LNG: [1,2],   SPD: 25, SIZ: 2}\n",
    "Hill_Dwarf         = {RAB:[0,0,2,0,1,0], LNG: [1,2],   SPD: 25, SIZ: 2}\n",
    "Mountain_Dwarf     = {RAB:[2,0,2,0,0,0], LNG: [1,2],   SPD: 25, SIZ: 2}\n",
    "High_Elf           = {RAB:[0,2,0,1,0,0], LNG: [0,1,3], SPD: 30, SIZ: 2}\n",
    "Wood_Elf           = {RAB:[0,2,0,0,1,0], LNG: [1,3],   SPD: 35, SIZ: 2}\n",
    "Drow_Elf           = {RAB:[0,2,0,0,0,1], LNG: [1,3],   SPD: 30, SIZ: 2}\n",
    "Lightfoot_Halfling = {RAB:[0,2,0,0,0,1], LNG: [1,7],   SPD: 25, SIZ: 1}\n",
    "Stout_Halfling     = {RAB:[0,2,1,0,0,0], LNG: [1,7],   SPD: 25, SIZ: 1}\n",
    "Dragonborn         = {RAB:[2,0,0,0,0,1], LNG: [1,12],  SPD: 30, SIZ: 2}\n",
    "Forest_Gnome       = {RAB:[0,1,0,2,0,0], LNG: [1,5],   SPD: 25, SIZ: 2}\n",
    "Rock_Gnome         = {RAB:[0,0,1,2,0,0], LNG: [1,5],   SPD: 25, SIZ: 1}\n",
    "Half_Elf           = {RAB:[0,0,0,0,0,2], LNG: [0,1,3], SPD: 30, SIZ: 1}\n",
    "Half_Orc           = {RAB:[2,0,1,0,0,0], LNG: [1,8],   SPD: 30, SIZ: 2}\n",
    "Teifling           = {RAB:[0,0,0,1,0,2], LNG: [1,13],  SPD: 30, SIZ: 2}\n",
    "\n",
    "#Lizardperson used for testing\n",
    "Lizardperson = {RAB: [1,1,1,1,1,1], LNG: [0,1,16], SPD: 30}\n",
    "\n",
    "Races = [Human, Hill_Dwarf, Mountain_Dwarf, High_Elf, Wood_Elf, Drow_Elf, Lightfoot_Halfling, Stout_Halfling, Dragonborn, Forest_Gnome, Rock_Gnome, Half_Elf, Half_Orc, Teifling]\n",
    "\n",
    "# Language Dictionaries\n",
    "Languages = {0: 'Pick One', 1: 'Common',      2: 'Dwarven',      3: 'Elvish',    4: 'Giant',     5: 'Gnomish',      6: 'Goblin',   7: 'Halfling', 8: 'Orc',\n",
    "             9:  'Abyssal', 10:  'Celestial', 11: 'Deep Speech', 12: 'Draconic', 13: 'Infernal', 14:  'Primordial', 15:  'Sylvan', 16: 'Undercommon'}\n",
    "#Size Dictionaries\n",
    "Sizes = {0:'Tiny', 1:'Small', 2:'Medium', 3:'Large', 4:'Huge', 5:'Gargantuan'} \n",
    "# Class Table/Dictionaries - Improve Later\n",
    "Barbarian = {1:12}\n",
    "Bard = {1:8}\n",
    "Cleric = {1:8}\n",
    "Druid = {1:8}\n",
    "Fighter = {1:10}\n",
    "Monk = {1:8}\n",
    "Paladin = {1:10}\n",
    "Ranger = {1:8}\n",
    "Rogue = {1:8}\n",
    "Sorerer = {1:6}\n",
    "Warlock = {1:8}\n",
    "Wizard = {1:6}"
   ]
  },
  {
   "cell_type": "code",
   "execution_count": 3,
   "metadata": {},
   "outputs": [],
   "source": [
    "# ndicen(count, sides) : Dice Roller\n",
    "# Not working yet.\n",
    "from mypythonlib import myfunctions\n",
    "# Above should import this.\n",
    "import random\n",
    "\n",
    "# Returns a list of rolled die and their sum. Index 0 is sum. Index 1 is list\n",
    "def ndicen(count,sides) :\n",
    "    dice = []\n",
    "    for die in range(count) :\n",
    "        pips = random.randint(1, sides)\n",
    "        dice.append(pips)\n",
    "    return(sum(dice), dice)"
   ]
  },
  {
   "cell_type": "code",
   "execution_count": 4,
   "metadata": {},
   "outputs": [],
   "source": [
    "# AS_generator(race, pointbuy) : Ability Score Generator\n",
    "def AS_generator(Race, PointBuy) :\n",
    "    raw = [10,10,10,10,10,10]\n",
    "    ability_scores = [x+y+z for (x,y,z) in zip(raw, Race, PointBuy)]\n",
    "    return(ability_scores)"
   ]
  },
  {
   "cell_type": "code",
   "execution_count": 5,
   "metadata": {},
   "outputs": [],
   "source": [
    "# Ability Skill Modifiers\n",
    "def AS_modifiers(ability_scores):\n",
    "    Modifiers = []\n",
    "    for x in ability_scores :\n",
    "        mod = math.floor((x-10)/2)\n",
    "        Modifiers.append(mod)\n",
    "        return(Modifiers)"
   ]
  },
  {
   "cell_type": "code",
   "execution_count": 6,
   "metadata": {},
   "outputs": [
    {
     "data": {
      "text/plain": [
       "[4]"
      ]
     },
     "execution_count": 6,
     "metadata": {},
     "output_type": "execute_result"
    }
   ],
   "source": [
    "test = AS_modifiers([18, 14, 6, 12, 13, 8])\n",
    "test"
   ]
  },
  {
   "cell_type": "code",
   "execution_count": 7,
   "metadata": {},
   "outputs": [],
   "source": [
    "# profiency_bonus(Level) : Profiencey Bonus by Level\n",
    "def profiency_bonus(Level) :\n",
    "    profbonus = 1 + math.ceil(Level/4)\n",
    "    return(profbonus)"
   ]
  },
  {
   "cell_type": "code",
   "execution_count": 8,
   "metadata": {},
   "outputs": [],
   "source": [
    "# hp_generator(Class, Level, Con_Mod) : Hit Points by Level\n",
    "def hp_generator(Class, Level, Con) :\n",
    "    dice = Class[1]\n",
    "    hit_points = dice + math.floor((Con-10)/2)*Level\n",
    "    for levelup in range(1,Level) :\n",
    "        roll = ndicen(1,dice)\n",
    "        add = roll[0]\n",
    "        hit_points = hit_points+add\n",
    "    return(hit_points)"
   ]
  },
  {
   "cell_type": "code",
   "execution_count": 9,
   "metadata": {},
   "outputs": [],
   "source": [
    "# Language Generator\n",
    "def langauge_generator(Races) :\n",
    "    lng_keys = Races[LNG]\n",
    "    for key in lng_keys :\n",
    "        print(Languages[key])"
   ]
  },
  {
   "cell_type": "code",
   "execution_count": 10,
   "metadata": {},
   "outputs": [],
   "source": [
    "# character_generator(Name) : runs the above three together.\n",
    "def character_generator(Name) :\n",
    "    Level = Name[1]\n",
    "    Race = Name[2]\n",
    "    Class = Name[3]\n",
    "    PointBuy = Name[4]\n",
    "    abilities = AS_generator(Race[RAB], PointBuy)\n",
    "    modifiers = AS_modifiers(abilities)\n",
    "    prof = profiency_bonus(Level)\n",
    "    hp = hp_generator(Class, Level, abilities[2])\n",
    "    langauge_generator(Race)\n",
    "    speed = Race[SPD]\n",
    "    return(prof, abilities, modifiers, hp, speed)\n"
   ]
  },
  {
   "cell_type": "code",
   "execution_count": 11,
   "metadata": {},
   "outputs": [
    {
     "data": {
      "text/plain": [
       "{1: 1,\n",
       " 2: {'RAB': [0, 0, 0, 0, 0, 0], 'LNG': [0, 1], 'SPD': 30, 'SIZ': 2},\n",
       " 3: {1: 6},\n",
       " 4: [0, 4, -4, 2, 3, -3]}"
      ]
     },
     "execution_count": 11,
     "metadata": {},
     "output_type": "execute_result"
    }
   ],
   "source": [
    "# Set Kayne's 1: Level, 2: Race, 3: Class, 4: Starting PointBuy allocation.\n",
    "\n",
    "Kanye = {1:1, 2:Human_Variant, 3:Wizard, 4:[0,4,-4,2,3,-3]}\n",
    "Kanye"
   ]
  },
  {
   "cell_type": "code",
   "execution_count": 12,
   "metadata": {},
   "outputs": [
    {
     "name": "stdout",
     "output_type": "stream",
     "text": [
      "Pick One\n",
      "Common\n"
     ]
    },
    {
     "data": {
      "text/plain": [
       "(2, [10, 14, 6, 12, 13, 7], [0], 4, 30)"
      ]
     },
     "execution_count": 12,
     "metadata": {},
     "output_type": "execute_result"
    }
   ],
   "source": [
    "# Kanye's Profiency Bonus, Ability Scores (No ASI), and HP\n",
    "Kanye_CS = character_generator(Kanye)\n",
    "Kanye_CS"
   ]
  },
  {
   "cell_type": "code",
   "execution_count": 13,
   "metadata": {},
   "outputs": [],
   "source": [
    "# Negative modifiers aren't added correctly yet.\n",
    "# Armor Class - 10 + dex + class bonus + gear\n",
    "# Speed, from race and class\n",
    "# Pending - To multiclass: For class, level append hit points.\n",
    "# Skills\n",
    "# Saves Class, Race, AS, Prof."
   ]
  },
  {
   "cell_type": "code",
   "execution_count": 14,
   "metadata": {},
   "outputs": [],
   "source": [
    "# name = 'Kayne'\n",
    "# level = 1\n",
    "# #character_class = Class[0]\n",
    "# race = Human\n",
    "# #hp = Class[1] + kam[2]\n",
    "# #ability_scores = zip(Ability_Scores, kas, kam) \n",
    "# character_inventory = ['Axe', 'Javelin']\n",
    "# def character_sheet():\n",
    "#     print(name)\n",
    "#     print('Level: ' + str(level))\n",
    "#     print(race)\n",
    "#     print(character_class)\n",
    "#     print(list(ability_scores))\n",
    "#     print(str(hp) + ' Hit Points')\n",
    "#     print('Inventory: ' + str(character_inventory))\n"
   ]
  }
 ],
 "metadata": {
  "interpreter": {
   "hash": "ad2bdc8ecc057115af97d19610ffacc2b4e99fae6737bb82f5d7fb13d2f2c186"
  },
  "kernelspec": {
   "display_name": "Python 3.9.7 ('base')",
   "language": "python",
   "name": "python3"
  },
  "language_info": {
   "codemirror_mode": {
    "name": "ipython",
    "version": 3
   },
   "file_extension": ".py",
   "mimetype": "text/x-python",
   "name": "python",
   "nbconvert_exporter": "python",
   "pygments_lexer": "ipython3",
   "version": "3.9.7"
  },
  "orig_nbformat": 4
 },
 "nbformat": 4,
 "nbformat_minor": 2
}
