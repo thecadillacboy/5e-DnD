{
 "cells": [
  {
   "cell_type": "code",
   "execution_count": 1,
   "metadata": {},
   "outputs": [],
   "source": [
    "# 0 = Human\n",
    "Race = ['Human']\n",
    "# 0 = Barbarian\n",
    "Class = ['Barbarian', 12]\n",
    "# 0 = STR, 1 = DEX, 2 = CON, 3 = INT, 4 = WIS, 5 = CHA\n",
    "Ability_Scores = ['Strength', 'Dexterity', 'Constitution', 'Intelligence', 'Wisdom', 'Charisma']\n"
   ]
  },
  {
   "cell_type": "code",
   "execution_count": 2,
   "metadata": {},
   "outputs": [],
   "source": [
    "# Kayne Ability Scores\n",
    "kas = [18, 12, 16, 10, 10, 10]\n",
    "kam = [4, 1, 3, -1, 0, 0]"
   ]
  },
  {
   "cell_type": "code",
   "execution_count": 3,
   "metadata": {},
   "outputs": [],
   "source": [
    "name = 'Kayne'\n",
    "level = 1\n",
    "character_class = Class[0]\n",
    "race = Race[0]\n",
    "hp = Class[1] + kam[2]\n",
    "ability_scores = zip(Ability_Scores, kas, kam) \n",
    "character_inventory = ['Axe', 'Javelin']"
   ]
  },
  {
   "cell_type": "code",
   "execution_count": 4,
   "metadata": {},
   "outputs": [],
   "source": [
    "def character_sheet():\n",
    "    print(name)\n",
    "    print('Level: ' + str(level))\n",
    "    print(race)\n",
    "    print(character_class)\n",
    "    print(list(ability_scores))\n",
    "    print(str(hp) + ' Hit Points')\n",
    "    print('Inventory: ' + str(character_inventory))\n"
   ]
  },
  {
   "cell_type": "code",
   "execution_count": 5,
   "metadata": {},
   "outputs": [
    {
     "name": "stdout",
     "output_type": "stream",
     "text": [
      "Kayne\n",
      "Level: 1\n",
      "Human\n",
      "Barbarian\n",
      "[('Strength', 18, 4), ('Dexterity', 12, 1), ('Constitution', 16, 3), ('Intelligence', 10, -1), ('Wisdom', 10, 0), ('Charisma', 10, 0)]\n",
      "15 Hit Points\n",
      "Inventory: ['Axe', 'Javelin']\n"
     ]
    }
   ],
   "source": [
    "character_sheet()"
   ]
  },
  {
   "cell_type": "code",
   "execution_count": null,
   "metadata": {},
   "outputs": [],
   "source": []
  }
 ],
 "metadata": {
  "interpreter": {
   "hash": "b3ba2566441a7c06988d0923437866b63cedc61552a5af99d1f4fb67d367b25f"
  },
  "kernelspec": {
   "display_name": "Python 3.9.7 ('base')",
   "language": "python",
   "name": "python3"
  },
  "language_info": {
   "codemirror_mode": {
    "name": "ipython",
    "version": 3
   },
   "file_extension": ".py",
   "mimetype": "text/x-python",
   "name": "python",
   "nbconvert_exporter": "python",
   "pygments_lexer": "ipython3",
   "version": "3.9.7"
  },
  "orig_nbformat": 4
 },
 "nbformat": 4,
 "nbformat_minor": 2
}
