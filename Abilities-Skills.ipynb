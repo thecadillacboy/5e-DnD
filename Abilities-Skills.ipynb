{
 "cells": [
  {
   "cell_type": "code",
   "execution_count": 1,
   "metadata": {},
   "outputs": [],
   "source": [
    "STR = 'STR'\n",
    "DEX = 'DEX'\n",
    "CON = 'CON'\n",
    "INT = 'INT'\n",
    "WIS = 'WIS'\n",
    "CHA = 'CHA'\n",
    "\n",
    "SKILL = 'SKILL'\n",
    "SAVE = 'SAVE'\n",
    "Saves = {1: STR, 2: DEX ,3: CON, 4: INT, 5: WIS, 6: CHA}\n",
    "\n",
    "Athletics = {STR:0}\n",
    "Acrobatics = {DEX:0}\n",
    "Sleight_of_Hand = {DEX:1}\n",
    "Stealth = {DEX:2}\n",
    "Arcana = {INT:0}\n",
    "History = {INT:1}\n",
    "Investigation= {INT:2}\n",
    "Nature = {INT:3}\n",
    "Religion = {INT:4}\n",
    "Animal_Handling = {WIS:0}\n",
    "Insight = {WIS:1}\n",
    "Medicine = {WIS:2}\n",
    "Perception = {WIS:3}\n",
    "Survival = {WIS:4}\n",
    "Deception = {CHA:0}\n",
    "Intimidation = {CHA:1}\n",
    "Performance = {CHA:2}\n",
    "Persuasion = {CHA:3}\n",
    "\n",
    "Skills = [Athletics, Acrobatics, Sleight_of_Hand, Stealth, Arcana, History, Investigation, Nature, Religion, \n",
    "          Animal_Handling, Insight, Medicine, Perception, Survival, Deception, Intimidation, Performance, Persuasion]\n",
    "\n",
    "Abilities = {STR: {SAVE: 1, SKILL: [Athletics]}, \n",
    "             DEX: {SAVE: 2, SKILL: [Acrobatics, Sleight_of_Hand, Stealth]}, \n",
    "             CON: {SAVE: 3, SKILL: []}, \n",
    "             INT: {SAVE: 4, SKILL: [Arcana, History, Investigation, Nature,Religion]}, \n",
    "             WIS: {SAVE: 5, SKILL: [Animal_Handling, Insight, Medicine, Perception, Survival]}, \n",
    "             CHA: {SAVE: 6, SKILL: [Deception, Intimidation, Performance, Persuasion]}}"
   ]
  },
  {
   "cell_type": "code",
   "execution_count": 2,
   "metadata": {},
   "outputs": [
    {
     "data": {
      "text/plain": [
       "{'SAVE': 4,\n",
       " 'SKILL': [{'INT': 0}, {'INT': 1}, {'INT': 2}, {'INT': 3}, {'INT': 4}]}"
      ]
     },
     "execution_count": 2,
     "metadata": {},
     "output_type": "execute_result"
    }
   ],
   "source": [
    "Abilities[INT]"
   ]
  },
  {
   "cell_type": "code",
   "execution_count": 3,
   "metadata": {},
   "outputs": [],
   "source": [
    "import random\n",
    "\n",
    "# Returns a list of rolled die and their sum. Index 0 is sum. Index 1 is list\n",
    "def ndicen(count,sides) :\n",
    "    dice = []\n",
    "    for die in range(count) :\n",
    "        pips = random.randint(1, sides)\n",
    "        dice.append(pips)\n",
    "    return(sum(dice), dice)"
   ]
  },
  {
   "cell_type": "code",
   "execution_count": 4,
   "metadata": {},
   "outputs": [],
   "source": [
    "testasi = [14,12,18,13,11,8]"
   ]
  },
  {
   "cell_type": "code",
   "execution_count": 5,
   "metadata": {},
   "outputs": [],
   "source": [
    "def Save(**kwargs) :\n",
    "    n = 1\n",
    "    roll = ndicen(n,20)\n",
    "    return(roll[0])"
   ]
  },
  {
   "cell_type": "code",
   "execution_count": 6,
   "metadata": {},
   "outputs": [
    {
     "data": {
      "text/plain": [
       "(14, [14])"
      ]
     },
     "execution_count": 6,
     "metadata": {},
     "output_type": "execute_result"
    }
   ],
   "source": [
    "ndicen(1,20)"
   ]
  },
  {
   "cell_type": "code",
   "execution_count": 7,
   "metadata": {},
   "outputs": [],
   "source": [
    "test = Save()"
   ]
  },
  {
   "cell_type": "code",
   "execution_count": 8,
   "metadata": {},
   "outputs": [
    {
     "data": {
      "text/plain": [
       "18"
      ]
     },
     "execution_count": 8,
     "metadata": {},
     "output_type": "execute_result"
    }
   ],
   "source": [
    "test"
   ]
  },
  {
   "cell_type": "code",
   "execution_count": null,
   "metadata": {},
   "outputs": [],
   "source": []
  }
 ],
 "metadata": {
  "interpreter": {
   "hash": "ad2bdc8ecc057115af97d19610ffacc2b4e99fae6737bb82f5d7fb13d2f2c186"
  },
  "kernelspec": {
   "display_name": "Python 3.9.7 ('base')",
   "language": "python",
   "name": "python3"
  },
  "language_info": {
   "codemirror_mode": {
    "name": "ipython",
    "version": 3
   },
   "file_extension": ".py",
   "mimetype": "text/x-python",
   "name": "python",
   "nbconvert_exporter": "python",
   "pygments_lexer": "ipython3",
   "version": "3.9.7"
  },
  "orig_nbformat": 4
 },
 "nbformat": 4,
 "nbformat_minor": 2
}
