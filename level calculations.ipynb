{
 "cells": [
  {
   "cell_type": "code",
   "execution_count": 1,
   "metadata": {},
   "outputs": [],
   "source": [
    "import math"
   ]
  },
  {
   "cell_type": "code",
   "execution_count": 12,
   "metadata": {},
   "outputs": [],
   "source": [
    "# Test Class Table - Improve Later\n",
    "Barbarian = 12\n",
    "Bard = 8\n",
    "Cleric = 8\n",
    "Druid = 8\n",
    "Fighter = 10\n",
    "Monk = 8\n",
    "Paladin = 10\n",
    "Ranger = 8\n",
    "Rogue = 8\n",
    "Sorerer = 6\n",
    "Warlock = 8\n",
    "Wizard = 6\n"
   ]
  },
  {
   "cell_type": "code",
   "execution_count": 2,
   "metadata": {},
   "outputs": [],
   "source": [
    "# Trying to get this to work as a library later.\n",
    "import random\n",
    "# Returns a list of rolled die and their sum.\n",
    "def ndicen(count,sides) :\n",
    "    dice = []\n",
    "    for die in range(count) :\n",
    "        pips = random.randint(1, sides)\n",
    "        dice.append(pips)\n",
    "    return(sum(dice), dice)"
   ]
  },
  {
   "cell_type": "code",
   "execution_count": 3,
   "metadata": {},
   "outputs": [],
   "source": [
    "# Profiencey Bonus by Level\n",
    "def profiency_bonus(Level) :\n",
    "    profbonus = 1 + math.ceil(Level/4)\n",
    "    return(profbonus)"
   ]
  },
  {
   "cell_type": "code",
   "execution_count": 4,
   "metadata": {},
   "outputs": [],
   "source": [
    "# Hit Points by Level\n",
    "# Pending - To multiclass: For class, level append hit points.\n",
    "def hp_generator(Class, Level, Con_Mod) :\n",
    "    dice = Class\n",
    "    hit_points = dice + Level*Con_Mod\n",
    "    for levelup in range(1,Level) :\n",
    "        roll = ndicen(1,dice)\n",
    "        add = roll[0]\n",
    "        hit_points = hit_points+add\n",
    "    return(hit_points)\n"
   ]
  },
  {
   "cell_type": "code",
   "execution_count": 34,
   "metadata": {},
   "outputs": [],
   "source": [
    "def character_generator (Name, Class, Level, Con) :\n",
    "    char_prof = profiency_bonus(Level)\n",
    "    char_hp = hp_generator(Class, Level, Con)\n",
    "    return(print(str(Name) + ' is level ' + str(Level) + ' with ' + str(char_hp) + ' Hitpoints and a Proficiency Bonus: ' + str(char_prof)))\n"
   ]
  },
  {
   "cell_type": "code",
   "execution_count": 43,
   "metadata": {},
   "outputs": [
    {
     "name": "stdout",
     "output_type": "stream",
     "text": [
      "Leroy is level 13 with 110 Hitpoints and a Proficiency Bonus: 5\n"
     ]
    }
   ],
   "source": [
    "Leroy = character_generator('Leroy', Fighter, 13, 2)"
   ]
  },
  {
   "cell_type": "code",
   "execution_count": 45,
   "metadata": {},
   "outputs": [],
   "source": [
    "Leroy"
   ]
  },
  {
   "cell_type": "code",
   "execution_count": 44,
   "metadata": {},
   "outputs": [
    {
     "name": "stdout",
     "output_type": "stream",
     "text": [
      "None\n"
     ]
    }
   ],
   "source": [
    "print(Leroy)"
   ]
  },
  {
   "cell_type": "code",
   "execution_count": 39,
   "metadata": {},
   "outputs": [
    {
     "name": "stdout",
     "output_type": "stream",
     "text": [
      "Azrael Bloodrinker is level 1 with 10 Hitpoints and a Proficiency Bonus: 2\n"
     ]
    }
   ],
   "source": [
    "character_generator('Azrael Bloodrinker', Bard, 1, 2)"
   ]
  },
  {
   "cell_type": "code",
   "execution_count": null,
   "metadata": {},
   "outputs": [],
   "source": []
  }
 ],
 "metadata": {
  "interpreter": {
   "hash": "ad2bdc8ecc057115af97d19610ffacc2b4e99fae6737bb82f5d7fb13d2f2c186"
  },
  "kernelspec": {
   "display_name": "Python 3.9.7 ('base')",
   "language": "python",
   "name": "python3"
  },
  "language_info": {
   "codemirror_mode": {
    "name": "ipython",
    "version": 3
   },
   "file_extension": ".py",
   "mimetype": "text/x-python",
   "name": "python",
   "nbconvert_exporter": "python",
   "pygments_lexer": "ipython3",
   "version": "3.9.7"
  },
  "orig_nbformat": 4
 },
 "nbformat": 4,
 "nbformat_minor": 2
}
