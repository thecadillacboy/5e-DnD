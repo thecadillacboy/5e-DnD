{
 "cells": [
  {
   "cell_type": "code",
   "execution_count": 1,
   "metadata": {},
   "outputs": [],
   "source": [
    "import math"
   ]
  },
  {
   "cell_type": "code",
   "execution_count": 2,
   "metadata": {},
   "outputs": [],
   "source": [
    "# Test Class Table - Improve Later\n",
    "Barbarian = 12\n",
    "Bard = 8\n",
    "Cleric = 8\n",
    "Druid = 8\n",
    "Fighter = 10\n",
    "Monk = 8\n",
    "Paladin = 10\n",
    "Ranger = 8\n",
    "Rogue = 8\n",
    "Sorerer = 6\n",
    "Warlock = 8\n",
    "Wizard = 6\n"
   ]
  },
  {
   "cell_type": "code",
   "execution_count": 3,
   "metadata": {},
   "outputs": [],
   "source": [
    "# Trying to get this to work as a library later.\n",
    "import random\n",
    "# Returns a list of rolled die and their sum.\n",
    "def ndicen(count,sides) :\n",
    "    dice = []\n",
    "    for die in range(count) :\n",
    "        pips = random.randint(1, sides)\n",
    "        dice.append(pips)\n",
    "    return(sum(dice), dice)"
   ]
  },
  {
   "cell_type": "code",
   "execution_count": 4,
   "metadata": {},
   "outputs": [],
   "source": [
    "# Profiencey Bonus by Level\n",
    "def profiency_bonus(Level) :\n",
    "    profbonus = 1 + math.ceil(Level/4)\n",
    "    return(profbonus)"
   ]
  },
  {
   "cell_type": "code",
   "execution_count": 5,
   "metadata": {},
   "outputs": [],
   "source": [
    "# Hit Points by Level\n",
    "# Pending - To multiclass: For class, level append hit points.\n",
    "def hp_generator(Class, Level, Con_Mod) :\n",
    "    dice = Class\n",
    "    hit_points = dice + Level*Con_Mod\n",
    "    for levelup in range(1,Level) :\n",
    "        roll = ndicen(1,dice)\n",
    "        add = roll[0]\n",
    "        hit_points = hit_points+add\n",
    "    return(hit_points)\n"
   ]
  },
  {
   "cell_type": "code",
   "execution_count": 6,
   "metadata": {},
   "outputs": [],
   "source": [
    "# Character Generator\n",
    "def character_generator (Name, Class, Level, Con) :\n",
    "    char_prof = profiency_bonus(Level)\n",
    "    char_hp = hp_generator(Class, Level, Con)\n",
    "    return(char_hp, char_prof)\n",
    "    # return(print(str(Name) + ' is level ' + str(Level) + ' with ' + str(char_hp) + ' Hitpoints and a Proficiency Bonus: ' + str(char_prof)))\n"
   ]
  },
  {
   "cell_type": "code",
   "execution_count": 16,
   "metadata": {},
   "outputs": [],
   "source": [
    "# 15, 14, 13, 12, 10, 8\n",
    "# 5, 4, 3, 2, 0, -2\n",
    "# Strength = [10]\n",
    "# Dexterity = [10]\n",
    "# Constitution = [10]\n",
    "# Intelligence = [10]\n",
    "# Wisdom = [10]\n",
    "# Charisma = [10]\n",
    "\n",
    "# STR = Strength\n",
    "# DEX = Dexterity\n",
    "# CON = Constitution\n",
    "# INT = Intelligence\n",
    "# WIS = Wisdom\n",
    "# CHA = Charisma\n",
    "\n",
    "AS_raw_character = [10,10,10,10,10,10]\n",
    "ASB_Human = [1,1,1,1,1,1]\n",
    "ASB_Hill_Dwarf = [0 0 2 0 1 0]\n",
    "# Rearrange these as chosen\n",
    "# 0 = STR, 1 = DEX, 2 = CON, 3 = INT, 4 = WIS, 5 = CHA\n",
    "Character_Choice_AS = [5, 4, 3, 2, 0, -2]\n",
    "\n",
    "Abilities = [Strength, Dexterity, Constitution, Intelligence, Wisdom, Charisma]\n",
    "ABI = [STR, DEX, CON, INT, WIS, CHA]\n",
    "\n",
    "Ability_Scores = zip(Abilities, ABI)\n"
   ]
  },
  {
   "cell_type": "code",
   "execution_count": null,
   "metadata": {},
   "outputs": [],
   "source": []
  }
 ],
 "metadata": {
  "interpreter": {
   "hash": "ad2bdc8ecc057115af97d19610ffacc2b4e99fae6737bb82f5d7fb13d2f2c186"
  },
  "kernelspec": {
   "display_name": "Python 3.9.7 ('base')",
   "language": "python",
   "name": "python3"
  },
  "language_info": {
   "codemirror_mode": {
    "name": "ipython",
    "version": 3
   },
   "file_extension": ".py",
   "mimetype": "text/x-python",
   "name": "python",
   "nbconvert_exporter": "python",
   "pygments_lexer": "ipython3",
   "version": "3.9.7"
  },
  "orig_nbformat": 4
 },
 "nbformat": 4,
 "nbformat_minor": 2
}
