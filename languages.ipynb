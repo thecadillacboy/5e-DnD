{
 "cells": [
  {
   "cell_type": "code",
   "execution_count": 1,
   "metadata": {},
   "outputs": [],
   "source": [
    "# Dictionaries\n",
    "# Dictionary Indices\n",
    "RAB = 'RAB' # RAB - Racial Ability Bonus\n",
    "LNG = 'LNG' # LNG - Language\n",
    "SPD = 'SPD' # SPD - Speed\n",
    "\n",
    "# Race Dictionaries\n",
    "Human              = {RAB:[1,1,1,1,1,1], LNG: [0,1],   SPD: 30}\n",
    "Human_Variant      = {RAB:[0,0,0,0,0,0], LNG: [0,1],   SPD: 30}\n",
    "Hill_Dwarf         = {RAB:[0,0,2,0,1,0], LNG: [1,2],   SPD: 25}\n",
    "Mountain_Dwarf     = {RAB:[2,0,2,0,0,0], LNG: [1,2],   SPD: 25}\n",
    "High_Elf           = {RAB:[0,2,0,1,0,0], LNG: [0,1,3], SPD: 30}\n",
    "Wood_Elf           = {RAB:[0,2,0,0,1,0], LNG: [1,3],   SPD: 35}\n",
    "Drow_Elf           = {RAB:[0,2,0,0,0,1], LNG: [1,3],   SPD: 30}\n",
    "Lightfoot_Halfling = {RAB:[0,2,0,0,0,1], LNG: [1,7],   SPD: 25}\n",
    "Stout_Halfling     = {RAB:[0,2,1,0,0,0], LNG: [1,7],   SPD: 25}\n",
    "Dragonborn         = {RAB:[2,0,0,0,0,1], LNG: [1,12],  SPD: 30}\n",
    "Forest_Gnome       = {RAB:[0,1,0,2,0,0], LNG: [1,5],   SPD: 25}\n",
    "Rock_Gnome         = {RAB:[0,0,1,2,0,0], LNG: [1,5],   SPD: 25}\n",
    "Half_Elf           = {RAB:[0,0,0,0,0,2], LNG: [0,1,3], SPD: 30}\n",
    "Half_Orc           = {RAB:[2,0,1,0,0,0], LNG: [1,8],   SPD: 30}\n",
    "Teifling           = {RAB:[0,0,0,1,0,2], LNG: [1,13],  SPD: 30}\n",
    "\n",
    "#Lizardperson used for testing\n",
    "Lizardperson = {RAB: [1,1,1,1,1,1], LNG: [0,1,16], SPD: 30}\n",
    "\n",
    "Races = [Human, Hill_Dwarf, Mountain_Dwarf, High_Elf, Wood_Elf, Drow_Elf, Lightfoot_Halfling, Stout_Halfling, Dragonborn, Forest_Gnome, Rock_Gnome, Half_Elf, Half_Orc, Teifling]\n",
    "\n",
    "# Language Dictionaries\n",
    "Languages = {0: 'Pick One', 1: 'Common',      2: 'Dwarven',      3: 'Elvish',    4: 'Giant',     5: 'Gnomish',      6: 'Goblin',   7: 'Halfling', 8: 'Orc',\n",
    "             9:  'Abyssal', 10:  'Celestial', 11: 'Deep Speech', 12: 'Draconic', 13: 'Infernal', 14:  'Primordial', 15:  'Sylvan', 16: 'Undercommon'}"
   ]
  },
  {
   "cell_type": "code",
   "execution_count": 4,
   "metadata": {},
   "outputs": [],
   "source": [
    "# Language Generator\n",
    "def langauge_generator(Races) :\n",
    "    lng_keys = Races[LNG]\n",
    "    for key in lng_keys :\n",
    "        print(Languages[key])"
   ]
  },
  {
   "cell_type": "code",
   "execution_count": null,
   "metadata": {},
   "outputs": [],
   "source": [
    "#Speed Generator - Need to get levels and classes working first."
   ]
  },
  {
   "cell_type": "code",
   "execution_count": 2,
   "metadata": {},
   "outputs": [
    {
     "data": {
      "text/plain": [
       "[0, 1, 16]"
      ]
     },
     "execution_count": 2,
     "metadata": {},
     "output_type": "execute_result"
    }
   ],
   "source": [
    "Lizardperson[LNG]"
   ]
  },
  {
   "cell_type": "code",
   "execution_count": 3,
   "metadata": {},
   "outputs": [
    {
     "data": {
      "text/plain": [
       "dict_keys(['RAB', 'LNG', 'SPD'])"
      ]
     },
     "execution_count": 3,
     "metadata": {},
     "output_type": "execute_result"
    }
   ],
   "source": [
    "Lizardperson.keys()"
   ]
  },
  {
   "cell_type": "code",
   "execution_count": 6,
   "metadata": {},
   "outputs": [
    {
     "name": "stdout",
     "output_type": "stream",
     "text": [
      "Pick One\n",
      "Common\n",
      "Undercommon\n"
     ]
    }
   ],
   "source": [
    "langauge_generator(Lizardperson)"
   ]
  },
  {
   "cell_type": "code",
   "execution_count": null,
   "metadata": {},
   "outputs": [],
   "source": []
  }
 ],
 "metadata": {
  "interpreter": {
   "hash": "ad2bdc8ecc057115af97d19610ffacc2b4e99fae6737bb82f5d7fb13d2f2c186"
  },
  "kernelspec": {
   "display_name": "Python 3.9.7 ('base')",
   "language": "python",
   "name": "python3"
  },
  "language_info": {
   "codemirror_mode": {
    "name": "ipython",
    "version": 3
   },
   "file_extension": ".py",
   "mimetype": "text/x-python",
   "name": "python",
   "nbconvert_exporter": "python",
   "pygments_lexer": "ipython3",
   "version": "3.9.7"
  },
  "orig_nbformat": 4
 },
 "nbformat": 4,
 "nbformat_minor": 2
}
